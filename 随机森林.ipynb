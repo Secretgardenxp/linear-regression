{
 "cells": [
  {
   "cell_type": "code",
   "execution_count": null,
   "metadata": {
    "collapsed": true
   },
   "outputs": [],
   "source": [
    "from sklearn.cross_validation import train_test_split\n",
    "from sklearn.preprocessing import StandardScaler\n",
    "from sklearn.ensemble import RandomForestRegressor\n",
    "from sklearn.tree import DecisionTreeRegressor\n",
    "from sklearn.metrics import r2_score, mean_squared_error, mean_absolute_error\n",
    "\n",
    "'''\n",
    "随机森林回归\n",
    "回归树\n",
    "'''\n",
    "# 1 准备数据\n",
    "\n",
    "x = df[['板温','光照强度','电流A']]\n",
    "y = df['发电量']\n",
    "\n",
    "# 2 分割训练数据和测试数据\n",
    "# 随机采样25%作为测试 75%作为训练\n",
    "x_train, x_test, y_train, y_test = train_test_split(x, y, test_size=0.25, random_state=33)\n",
    "\n",
    "# 3 训练数据和测试数据进行标准化处理\n",
    "ss_x = StandardScaler()\n",
    "x_train = ss_x.fit_transform(x_train)\n",
    "x_test = ss_x.transform(x_test)\n",
    "\n",
    "ss_y = StandardScaler()\n",
    "y_train = ss_y.fit_transform(y_train.reshape(-1, 1))\n",
    "y_test = ss_y.transform(y_test.reshape(-1, 1))\n",
    "\n",
    "# 4 两种集成回归模型进行训练和预测\n",
    "# 随机森林回归\n",
    "rfr = RandomForestRegressor()\n",
    "# 训练\n",
    "rfr.fit(x_train, y_train)\n",
    "# 预测 保存预测结果\n",
    "rfr_y_predict = rfr.predict(x_test)\n",
    "\n",
    "# 回归树\n",
    "tree = DecisionTreeRegressor()\n",
    "# 训练\n",
    "tree.fit(x_train, y_train)\n",
    "# 预测 保存预测结果\n",
    "tree_y_predict = tree.predict(x_test)\n",
    "\n",
    "\n",
    "# 5 模型评估\n",
    "# 随机森林回归模型评估\n",
    "print(\"随机森林回归的默认评估值为：\", rfr.score(x_test, y_test))\n",
    "print(\"随机森林回归的R_squared值为：\", r2_score(y_test, rfr_y_predict))\n",
    "print(\"随机森林回归的均方误差为:\", mean_squared_error(ss_y.inverse_transform(y_test),\n",
    "                                          ss_y.inverse_transform(rfr_y_predict)))\n",
    "print(\"随机森林回归的平均绝对误差为:\", mean_absolute_error(ss_y.inverse_transform(y_test),\n",
    "                                             ss_y.inverse_transform(rfr_y_predict)))\n",
    "\n",
    "# 回归树模型评估\n",
    "print(\"回归树的默认评估值为：\", etr.score(x_test, y_test))\n",
    "print(\"回归树的R_squared值为：\", r2_score(y_test, gbr_y_predict))\n",
    "print(\"回归树的均方误差为:\", mean_squared_error(ss_y.inverse_transform(y_test),\n",
    "                                            ss_y.inverse_transform(gbr_y_predict)))\n",
    "print(\"回归树的平均绝对误差为:\", mean_absolute_error(ss_y.inverse_transform(y_test),\n",
    "                                               ss_y.inverse_transform(gbr_y_predict)))\n"
   ]
  }
 ],
 "metadata": {
  "kernelspec": {
   "display_name": "Python 3",
   "language": "python",
   "name": "python3"
  },
  "language_info": {
   "codemirror_mode": {
    "name": "ipython",
    "version": 3
   },
   "file_extension": ".py",
   "mimetype": "text/x-python",
   "name": "python",
   "nbconvert_exporter": "python",
   "pygments_lexer": "ipython3",
   "version": "3.6.2"
  }
 },
 "nbformat": 4,
 "nbformat_minor": 2
}
